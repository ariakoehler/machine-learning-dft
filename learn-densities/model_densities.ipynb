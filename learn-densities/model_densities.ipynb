{
 "cells": [
  {
   "cell_type": "code",
   "execution_count": 3,
   "metadata": {},
   "outputs": [],
   "source": [
    "import numpy as np\n",
    "import pandas as pd\n",
    "import matplotlib.pyplot as plt\n",
    "import seaborn as sns\n",
    "import pickle\n",
    "\n",
    "from generate_model import *\n",
    "from get_densities import *"
   ]
  },
  {
   "cell_type": "code",
   "execution_count": 2,
   "metadata": {},
   "outputs": [],
   "source": [
    "from keras.models import Model, Sequential\n",
    "from keras.layers import Dense, Dropout, Input, Embedding\n",
    "from keras.layers import Flatten, Merge, Activation\n",
    "from keras.layers import Conv2D, Conv3D, MaxPooling2D, MaxPooling3D"
   ]
  },
  {
   "cell_type": "markdown",
   "metadata": {},
   "source": [
    "### Data Exploration"
   ]
  },
  {
   "cell_type": "code",
   "execution_count": 5,
   "metadata": {},
   "outputs": [
    {
     "data": {
      "text/plain": [
       "array([[  8.00000000e+00,  -3.09656111e+02,  -3.12385000e-01, ...,\n",
       "         -3.15626326e+02,  -1.74244300e+00,   6.21118000e-01],\n",
       "       [  8.00000000e+00,  -6.92771000e-01,  -5.99800000e-03, ...,\n",
       "         -6.66298600e+00,  -1.43605600e+00,   2.06315800e+00],\n",
       "       [  8.00000000e+00,  -4.12569700e+00,  -5.99800000e-03, ...,\n",
       "         -1.00959120e+01,  -1.43605600e+00,   2.06315800e+00],\n",
       "       ..., \n",
       "       [  0.00000000e+00,   0.00000000e+00,   0.00000000e+00, ...,\n",
       "          0.00000000e+00,   0.00000000e+00,   0.00000000e+00],\n",
       "       [  0.00000000e+00,   0.00000000e+00,   0.00000000e+00, ...,\n",
       "          0.00000000e+00,   0.00000000e+00,   0.00000000e+00],\n",
       "       [  0.00000000e+00,   0.00000000e+00,   0.00000000e+00, ...,\n",
       "          0.00000000e+00,   0.00000000e+00,   0.00000000e+00]])"
      ]
     },
     "execution_count": 5,
     "metadata": {},
     "output_type": "execute_result"
    }
   ],
   "source": [
    "data_dft = pickle.load(open('atomic_data_clean.p', 'rb'))\n",
    "atom_data = data_dft[:,:-1]\n",
    "energy_data = data_dft[:,-1]\n",
    "atom_data"
   ]
  },
  {
   "cell_type": "code",
   "execution_count": 6,
   "metadata": {},
   "outputs": [
    {
     "data": {
      "text/plain": [
       "array([  3.77380000e-08,   1.28601000e-07,   1.60610000e-07, ...,\n",
       "         0.00000000e+00,   0.00000000e+00,   0.00000000e+00])"
      ]
     },
     "execution_count": 6,
     "metadata": {},
     "output_type": "execute_result"
    }
   ],
   "source": [
    "energy_data"
   ]
  },
  {
   "cell_type": "code",
   "execution_count": 8,
   "metadata": {},
   "outputs": [],
   "source": [
    "data_shape = atom_data.shape"
   ]
  },
  {
   "cell_type": "code",
   "execution_count": 15,
   "metadata": {},
   "outputs": [],
   "source": [
    "from sklearn.cross_validation import KFold\n",
    "from sklearn.cross_validation import train_test_split\n",
    "\n",
    "train_atom, test_atom, train_en, test_en = train_test_split(atom_data, energy_data)"
   ]
  },
  {
   "cell_type": "markdown",
   "metadata": {},
   "source": [
    "### Building Models"
   ]
  },
  {
   "cell_type": "code",
   "execution_count": 20,
   "metadata": {},
   "outputs": [],
   "source": [
    "inputs = Input(shape=(data_shape[1],), dtype='float32')\n",
    "\n",
    "dense_layer0 = Dense(units=80, activation='relu', name='dense0')(inputs)\n",
    "drop_layer0 = Dropout(rate=0.2, name='drop0')(dense_layer0)\n",
    "\n",
    "dense_layer1 = Dense(units=50, activation='relu', name='dense1')(drop_layer0)\n",
    "drop_layer1 = Dropout(rate=0.2, name='drop1')(dense_layer1)\n",
    "\n",
    "dense_layer2 = Dense(units=20, activation='relu', name='dense2')(drop_layer1)\n",
    "drop_layer2 = Dropout(rate=0.2, name='drop2')(dense_layer2)\n",
    "\n",
    "dense_layer3 = Dense(units=1, activation='relu', name='dense3')(drop_layer2)\n",
    "\n",
    "dft_model = Model(inputs=inputs, outputs=dense_layer3)"
   ]
  },
  {
   "cell_type": "code",
   "execution_count": 21,
   "metadata": {},
   "outputs": [
    {
     "name": "stdout",
     "output_type": "stream",
     "text": [
      "Train on 265167 samples, validate on 88389 samples\n",
      "Epoch 1/2\n",
      "265167/265167 [==============================] - 31s 118us/step - loss: 71878.5629 - acc: 0.9258 - val_loss: 8.6210e-05 - val_acc: 0.9262\n",
      "Epoch 2/2\n",
      "265167/265167 [==============================] - 28s 106us/step - loss: 1.0618e-04 - acc: 0.9258 - val_loss: 8.6210e-05 - val_acc: 0.9262\n"
     ]
    },
    {
     "data": {
      "text/plain": [
       "<keras.callbacks.History at 0x2aab09e1e2b0>"
      ]
     },
     "execution_count": 21,
     "metadata": {},
     "output_type": "execute_result"
    }
   ],
   "source": [
    "dft_model.compile(optimizer='sgd',\n",
    "                 loss='mean_squared_error',\n",
    "                 metrics=['acc'])\n",
    "\n",
    "dft_model.fit(train_atom, train_en, verbose=1, \n",
    "              validation_data=[test_atom, test_en],\n",
    "             epochs=2)"
   ]
  },
  {
   "cell_type": "code",
   "execution_count": null,
   "metadata": {},
   "outputs": [],
   "source": []
  }
 ],
 "metadata": {
  "kernelspec": {
   "display_name": "Python 3",
   "language": "python",
   "name": "python3"
  },
  "language_info": {
   "codemirror_mode": {
    "name": "ipython",
    "version": 3
   },
   "file_extension": ".py",
   "mimetype": "text/x-python",
   "name": "python",
   "nbconvert_exporter": "python",
   "pygments_lexer": "ipython3",
   "version": "3.6.2"
  }
 },
 "nbformat": 4,
 "nbformat_minor": 2
}
